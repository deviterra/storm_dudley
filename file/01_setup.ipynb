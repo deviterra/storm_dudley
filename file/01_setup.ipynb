{
 "cells": [
  {
   "cell_type": "code",
   "execution_count": 1,
   "metadata": {},
   "outputs": [],
   "source": [
    "import matplotlib.pyplot as plt\n",
    "import numpy as np\n",
    "import xarray as xr\n",
    "import pandas as pd\n",
    "import os\n",
    "import seaborn as sns\n",
    "import random \n",
    "import scipy as sc\n",
    "import statsmodels.api as sm\n",
    "import scipy.stats as stats\n",
    "import cartopy.crs as ccrs\n",
    "import pygrib\n",
    "import cfgrib\n",
    "import glob\n",
    "\n",
    "sns.set_theme(style=\"white\")\n",
    "sns.set_style(\"white\")\n",
    "\n",
    "random.seed(10)\n",
    "\n"
   ]
  },
  {
   "cell_type": "code",
   "execution_count": 2,
   "metadata": {},
   "outputs": [],
   "source": [
    "class Data():\n",
    "    def get_eps_data(experiments, inidate='2022-02-16'):\n",
    "        \"\"\"\n",
    "        Function to load comlete data of simulations on surface level since\n",
    "        xr has a bug that prevents using\n",
    "        this as a simpler solution\n",
    "\n",
    "        Input:\n",
    "        ------\n",
    "        experiments: list of strings, list of experiments to import,\n",
    "                e.g. ['pi', 'curr', 'incr']\n",
    "\n",
    "        Output:\n",
    "        -------\n",
    "        eps: list of xarrays, data and metadata of operational forecasts,\n",
    "        each list entry is one experiment\n",
    "        \"\"\"\n",
    "\n",
    "        directory = {'pi': '/gf3/predict2/AWH012_LEACH_NASTORM/DATA/MED-R/EXP/pi/EU025/sfc/',\n",
    "                    'curr': '/gf3/predict2/AWH012_LEACH_NASTORM/DATA/MED-R/ENS/EU025/sfc/',\n",
    "                    'incr': '/gf3/predict2/AWH012_LEACH_NASTORM/DATA/MED-R/EXP/incr/EU025/sfc/'}\n",
    "\n",
    "        eps = {}\n",
    "        for experiment in experiments:\n",
    "            exp_eps = []\n",
    "            for c, cont in enumerate(['cf', 'pf']):\n",
    "                for files in glob.glob(directory[experiment]\n",
    "                                        + cont + '/*'\n",
    "                                        + inidate + '*.nc'):\n",
    "                    print(files)\n",
    "                    data = xr.open_dataset(files)\n",
    "                    exp_eps.append(Data.preproc_ds(data.get(['fg10', 'msl',\n",
    "                                                                'u10', 'v10',\n",
    "                                                                'u100', 'v100'])))\n",
    "\n",
    "            eps[experiment] = xr.concat(exp_eps, dim='number').squeeze()\n",
    "\n",
    "        return eps\n",
    "    \n",
    "\n",
    "    def preproc_ds(ds):\n",
    "        \"\"\"\n",
    "        Main pre-processing function\n",
    "        Writtten by Nick Leach.\n",
    "\n",
    "        Input:\n",
    "        ------\n",
    "\n",
    "        Output:\n",
    "        -------\n",
    "        \"\"\"\n",
    "\n",
    "        # accumulated variables & scaling factors\n",
    "        accumulated_vars = {'tp': 60 * 60 * 24 * 1e3,\n",
    "                            'ttr': 1,\n",
    "                            'tsr': 1,\n",
    "                            'str': 1,\n",
    "                            'ssr': 1,\n",
    "                            'e': 1}\n",
    "        accumulated_var_newunits = {'tp': 'mm day$^{-1}$',\n",
    "                                    'ttr': 'W m$^{-2}$',\n",
    "                                    'tsr': 'W m$^{-2}$',\n",
    "                                    'str': 'W m$^{-2}$',\n",
    "                                    'ssr': 'W m$^{-2}$',\n",
    "                                    'e': 'm s$^{-1}$'}\n",
    "        ds = ds.copy().squeeze()\n",
    "        # set up aux data\n",
    "        inidate = pd.to_datetime(ds.time[0].values)\n",
    "        # expand dimensions to include extra info\n",
    "        if not 'hDate' in ds:\n",
    "            ds = ds.expand_dims({'inidate': [inidate]}).copy()\n",
    "\n",
    "        if not 'number' in ds:\n",
    "            ds = ds.expand_dims({'number': [0]}).copy()\n",
    "\n",
    "        # put time dimension at front\n",
    "        ds = ds.transpose('time', ...)\n",
    "        ds = ds.copy(deep=True)\n",
    "\n",
    "        # convert accumulated variables into instantaneous\n",
    "        for var, sf in accumulated_vars.items():\n",
    "            if var in ds.keys():\n",
    "                ds[var].loc[dict(time=ds.time[1:])] = Data.accum2rate(ds[var]) * sf\n",
    "                # set first value to equal zero,\n",
    "                # should be zero but isn't always\n",
    "                ds[var].loc[dict(time=ds.time[0])] = 0\n",
    "                ds[var].attrs['units'] = accumulated_var_newunits[var]\n",
    "        return ds"
   ]
  },
  {
   "cell_type": "code",
   "execution_count": 3,
   "metadata": {},
   "outputs": [
    {
     "data": {
      "text/plain": [
       "\"\\nfor experiment in experiments:\\n    for cont in cfpf:\\n        for member in members[experiment]:\\n            if experiment == 'pi':\\n                wind_gusts_pi.extend(list(xr.open_dataset(os.path.join(directory_exp,experiment,'EU025/sfc',cont,member+'.nc')).fg10.values.flatten()))\\n            elif experiment == 'incr':\\n                wind_gusts_incr.extend(list(xr.open_dataset(os.path.join(directory_exp,experiment,'EU025/sfc',cont,member+'.nc')).fg10.values.flatten()))\\n\""
      ]
     },
     "execution_count": 3,
     "metadata": {},
     "output_type": "execute_result"
    }
   ],
   "source": [
    "# Load data from MED-R Preindustrial and increased\n",
    "'''\n",
    "directory_exp = '/network/group/aopp/predict/AWH012_LEACH_NASTORM/DATA/MED-R/EXP/'\n",
    "\n",
    "experiments = ['incr', 'pi']\n",
    "cfpf = ['cf', 'pf']  # control and perturbed are treated equally\n",
    "members = {'pi' : ['b2nn_2022-02-14', 'b2ns_2022-02-16', 'b2nq_2022-02-10'], \n",
    "           'incr' : ['b2no_2022-02-14', 'b2nr_2022-02-10', 'b2nt_2022-02-16']}  # members for incr and pi runs\n",
    "\n",
    "wind_gusts_pi = []\n",
    "wind_gusts_incr = []\n",
    "'''\n",
    "\n",
    "#wind_gusts_pi.extend(list(xr.open_dataset(os.path.join(directory_exp,'pi', 'EU025/sfc','cf','b2nn_2022-02-14'+'.nc')).fg10.values.flatten()))\n",
    "\n",
    "'''\n",
    "for experiment in experiments:\n",
    "    for cont in cfpf:\n",
    "        for member in members[experiment]:\n",
    "            if experiment == 'pi':\n",
    "                wind_gusts_pi.extend(list(xr.open_dataset(os.path.join(directory_exp,experiment,'EU025/sfc',cont,member+'.nc')).fg10.values.flatten()))\n",
    "            elif experiment == 'incr':\n",
    "                wind_gusts_incr.extend(list(xr.open_dataset(os.path.join(directory_exp,experiment,'EU025/sfc',cont,member+'.nc')).fg10.values.flatten()))\n",
    "'''\n",
    "\n",
    "Data.get_eps_data(['pi'])"
   ]
  },
  {
   "cell_type": "code",
   "execution_count": 4,
   "metadata": {},
   "outputs": [
    {
     "data": {
      "text/plain": [
       "\"\\nfor cont in cfpf:\\n    for date in dates:\\n        wind_gusts_curr.extend(list(xr.open_dataset(os.path.join(directory_ens,cont,'1_2022-02-'+date+'.nc')).fg10.values.flatten()))\\n\""
      ]
     },
     "execution_count": 4,
     "metadata": {},
     "output_type": "execute_result"
    }
   ],
   "source": [
    "'''\n",
    "# Load data from current climate\n",
    "directory_ens = '/network/group/aopp/predict/AWH012_LEACH_NASTORM/DATA/MED-R/ENS/EU025/sfc/'\n",
    "# dates = ['07', '08', '09', '10', '11', '12', '13', '14', '15', '16']\n",
    "dates = ['10','14','16']\n",
    "wind_gusts_curr = []\n",
    "#wind_gusts_curr.extend(list(xr.open_dataset(os.path.join(directory_ens,'cf','1_2022-02-'+'14'+'.nc')).fg10.values.flatten()))\n",
    "\n",
    "\n",
    "for cont in cfpf:\n",
    "    for date in dates:\n",
    "        wind_gusts_curr.extend(list(xr.open_dataset(os.path.join(directory_ens,cont,'1_2022-02-'+date+'.nc')).fg10.values.flatten()))\n",
    "\n",
    "\n",
    "'''"
   ]
  },
  {
   "cell_type": "markdown",
   "metadata": {},
   "source": [
    "right, the kernel crash here (just above) everytime I ran it.\n",
    "The code must be working, so it's the environment\n",
    "1. usually this happened bc of the wrong installment of numpy (according to python)\n",
    "1.1 reinstalled in conda, didn't work#\n",
    "2. environment--like ipykernal thingy (jupyter) messing with conda:?\n",
    "2.1 ha, disabled jupyter and this is still fking there\n"
   ]
  },
  {
   "cell_type": "code",
   "execution_count": 5,
   "metadata": {},
   "outputs": [
    {
     "ename": "ValueError",
     "evalue": "Sample larger than population or is negative",
     "output_type": "error",
     "traceback": [
      "\u001b[0;31m---------------------------------------------------------------------------\u001b[0m",
      "\u001b[0;31mValueError\u001b[0m                                Traceback (most recent call last)",
      "Cell \u001b[0;32mIn[5], line 3\u001b[0m\n\u001b[1;32m      1\u001b[0m plt\u001b[39m.\u001b[39mhist(random\u001b[39m.\u001b[39msample(wind_gusts_pi, \u001b[39m10000\u001b[39m), alpha \u001b[39m=\u001b[39m \u001b[39m0.5\u001b[39m, density \u001b[39m=\u001b[39m \u001b[39mTrue\u001b[39;00m, bins \u001b[39m=\u001b[39m \u001b[39m20\u001b[39m, label \u001b[39m=\u001b[39m \u001b[39m'\u001b[39m\u001b[39mPI\u001b[39m\u001b[39m'\u001b[39m)\n\u001b[1;32m      2\u001b[0m plt\u001b[39m.\u001b[39mhist(random\u001b[39m.\u001b[39msample(wind_gusts_curr, \u001b[39m10000\u001b[39m), alpha \u001b[39m=\u001b[39m \u001b[39m0.5\u001b[39m, density \u001b[39m=\u001b[39m \u001b[39mTrue\u001b[39;00m, bins \u001b[39m=\u001b[39m \u001b[39m20\u001b[39m, label \u001b[39m=\u001b[39m \u001b[39m'\u001b[39m\u001b[39mCURR\u001b[39m\u001b[39m'\u001b[39m)\n\u001b[0;32m----> 3\u001b[0m plt\u001b[39m.\u001b[39mhist(random\u001b[39m.\u001b[39;49msample(wind_gusts_incr, \u001b[39m10000\u001b[39;49m), alpha \u001b[39m=\u001b[39m \u001b[39m0.5\u001b[39m, density \u001b[39m=\u001b[39m \u001b[39mTrue\u001b[39;00m, bins \u001b[39m=\u001b[39m \u001b[39m20\u001b[39m, label \u001b[39m=\u001b[39m \u001b[39m'\u001b[39m\u001b[39mINCR\u001b[39m\u001b[39m'\u001b[39m)\n\u001b[1;32m      4\u001b[0m plt\u001b[39m.\u001b[39mxlabel(\u001b[39m'\u001b[39m\u001b[39mwind gusts on 10m (m/s)\u001b[39m\u001b[39m'\u001b[39m)\n\u001b[1;32m      5\u001b[0m plt\u001b[39m.\u001b[39mylabel(\u001b[39m'\u001b[39m\u001b[39mfrequency\u001b[39m\u001b[39m'\u001b[39m)\n",
      "File \u001b[0;32m~/nobackups/miniconda3/envs/storm_dudley/lib/python3.9/random.py:449\u001b[0m, in \u001b[0;36mRandom.sample\u001b[0;34m(self, population, k, counts)\u001b[0m\n\u001b[1;32m    447\u001b[0m randbelow \u001b[39m=\u001b[39m \u001b[39mself\u001b[39m\u001b[39m.\u001b[39m_randbelow\n\u001b[1;32m    448\u001b[0m \u001b[39mif\u001b[39;00m \u001b[39mnot\u001b[39;00m \u001b[39m0\u001b[39m \u001b[39m<\u001b[39m\u001b[39m=\u001b[39m k \u001b[39m<\u001b[39m\u001b[39m=\u001b[39m n:\n\u001b[0;32m--> 449\u001b[0m     \u001b[39mraise\u001b[39;00m \u001b[39mValueError\u001b[39;00m(\u001b[39m\"\u001b[39m\u001b[39mSample larger than population or is negative\u001b[39m\u001b[39m\"\u001b[39m)\n\u001b[1;32m    450\u001b[0m result \u001b[39m=\u001b[39m [\u001b[39mNone\u001b[39;00m] \u001b[39m*\u001b[39m k\n\u001b[1;32m    451\u001b[0m setsize \u001b[39m=\u001b[39m \u001b[39m21\u001b[39m        \u001b[39m# size of a small set minus size of an empty list\u001b[39;00m\n",
      "\u001b[0;31mValueError\u001b[0m: Sample larger than population or is negative"
     ]
    },
    {
     "data": {
      "image/png": "[encoded data removed]",
      "text/plain": [
       "<Figure size 640x480 with 1 Axes>"
      ]
     },
     "metadata": {},
     "output_type": "display_data"
    }
   ],
   "source": [
    "plt.hist(random.sample(wind_gusts_pi, 10000), alpha = 0.5, density = True, bins = 20, label = 'PI')\n",
    "plt.hist(random.sample(wind_gusts_curr, 10000), alpha = 0.5, density = True, bins = 20, label = 'CURR')\n",
    "plt.hist(random.sample(wind_gusts_incr, 10000), alpha = 0.5, density = True, bins = 20, label = 'INCR')\n",
    "plt.xlabel('wind gusts on 10m (m/s)')\n",
    "plt.ylabel('frequency')\n",
    "plt.legend()\n",
    "sns.despine()\n",
    "\n",
    "plt.hist(random.sample(wind_gusts_pi, 10000), alpha = 0.5, density = True, bins = 20, label = 'PI')\n",
    "plt.hist(random.sample(wind_gusts_curr, 10000), alpha = 0.5, density = True, bins = 20, label = 'CURR')\n",
    "plt.hist(random.sample(wind_gusts_incr, 10000), alpha = 0.5, density = True, bins = 20, label = 'INCR')\n",
    "plt.xlabel('wind gusts on 10m (m/s)')\n",
    "plt.ylabel('frequency')\n",
    "plt.legend()\n",
    "sns.despine()\n",
    "plt.xlim((10,40,))\n",
    "\n",
    "#plt.savefig('figures/01_wind_gusts_hist_zoom.pdf')\n",
    "#plt.savefig('figures/01_wind_gusts_hist_zoom.png')\n",
    "\n"
   ]
  }
 ],
 "metadata": {
  "kernelspec": {
   "display_name": "storm_dudley",
   "language": "python",
   "name": "python3"
  },
  "language_info": {
   "codemirror_mode": {
    "name": "ipython",
    "version": 3
   },
   "file_extension": ".py",
   "mimetype": "text/x-python",
   "name": "python",
   "nbconvert_exporter": "python",
   "pygments_lexer": "ipython3",
   "version": "3.9.17"
  },
  "orig_nbformat": 4
 },
 "nbformat": 4,
 "nbformat_minor": 2
}

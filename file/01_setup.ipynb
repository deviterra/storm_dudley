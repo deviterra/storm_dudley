{
 "cells": [
  {
   "cell_type": "code",
   "execution_count": 2,
   "metadata": {},
   "outputs": [],
   "source": [
    "import matplotlib.pyplot as plt\n",
    "import numpy as np\n",
    "import xarray as xr\n",
    "import pandas as pd\n",
    "import os\n",
    "import seaborn as sns\n",
    "import random \n",
    "import scipy as sc\n",
    "import statsmodels.api as sm\n",
    "import scipy.stats as stats\n",
    "import cartopy.crs as ccrs\n",
    "import pygrib\n",
    "import cfgrib\n",
    "import glob\n",
    "\n",
    "sns.set_theme(style=\"white\")\n",
    "sns.set_style(\"white\")\n",
    "\n",
    "random.seed(10)\n",
    "\n"
   ]
  },
  {
   "cell_type": "code",
   "execution_count": 3,
   "metadata": {},
   "outputs": [],
   "source": [
    "class Data():\n",
    "    def get_eps_data(experiments, inidate='2022-02-16'):\n",
    "        \"\"\"\n",
    "        Function to load comlete data of simulations on surface level since\n",
    "        xr has a bug that prevents using\n",
    "        this as a simpler solution\n",
    "\n",
    "        Input:\n",
    "        ------\n",
    "        experiments: list of strings, list of experiments to import,\n",
    "                e.g. ['pi', 'curr', 'incr']\n",
    "\n",
    "        Output:\n",
    "        -------\n",
    "        eps: list of xarrays, data and metadata of operational forecasts,\n",
    "        each list entry is one experiment\n",
    "        \"\"\"\n",
    "\n",
    "        directory = {'pi': '/gf3/predict2/AWH012_LEACH_NASTORM/DATA/MED-R/EXP/pi/EU025/sfc/',\n",
    "                    'curr': '/gf3/predict2/AWH012_LEACH_NASTORM/DATA/MED-R/ENS/EU025/sfc/',\n",
    "                    'incr': '/gf3/predict2/AWH012_LEACH_NASTORM/DATA/MED-R/EXP/incr/EU025/sfc/'}\n",
    "\n",
    "        eps = {}\n",
    "        for experiment in experiments:\n",
    "            exp_eps = []\n",
    "            for c, cont in enumerate(['cf', 'pf']):\n",
    "                for files in glob.glob(directory[experiment]\n",
    "                                        + cont + '/*'\n",
    "                                        + inidate + '*.nc'):\n",
    "                    print(files)\n",
    "                    data = xr.open_dataset(files)\n",
    "                    exp_eps.append(Data.preproc_ds(data.get(['fg10', 'msl',\n",
    "                                                                'u10', 'v10',\n",
    "                                                                'u100', 'v100'])))\n",
    "\n",
    "            eps[experiment] = xr.concat(exp_eps, dim='number').squeeze()\n",
    "\n",
    "        return eps\n",
    "    \n",
    "\n",
    "    def preproc_ds(ds):\n",
    "        \"\"\"\n",
    "        Main pre-processing function\n",
    "        Writtten by Nick Leach.\n",
    "\n",
    "        Input:\n",
    "        ------\n",
    "\n",
    "        Output:\n",
    "        -------\n",
    "        \"\"\"\n",
    "\n",
    "        # accumulated variables & scaling factors\n",
    "        accumulated_vars = {'tp': 60 * 60 * 24 * 1e3,\n",
    "                            'ttr': 1,\n",
    "                            'tsr': 1,\n",
    "                            'str': 1,\n",
    "                            'ssr': 1,\n",
    "                            'e': 1}\n",
    "        accumulated_var_newunits = {'tp': 'mm day$^{-1}$',\n",
    "                                    'ttr': 'W m$^{-2}$',\n",
    "                                    'tsr': 'W m$^{-2}$',\n",
    "                                    'str': 'W m$^{-2}$',\n",
    "                                    'ssr': 'W m$^{-2}$',\n",
    "                                    'e': 'm s$^{-1}$'}\n",
    "        ds = ds.copy().squeeze()\n",
    "        # set up aux data\n",
    "        inidate = pd.to_datetime(ds.time[0].values)\n",
    "        # expand dimensions to include extra info\n",
    "        if not 'hDate' in ds:\n",
    "            ds = ds.expand_dims({'inidate': [inidate]}).copy()\n",
    "\n",
    "        if not 'number' in ds:\n",
    "            ds = ds.expand_dims({'number': [0]}).copy()\n",
    "\n",
    "        # put time dimension at front\n",
    "        ds = ds.transpose('time', ...)\n",
    "        ds = ds.copy(deep=True)\n",
    "\n",
    "        # convert accumulated variables into instantaneous\n",
    "        for var, sf in accumulated_vars.items():\n",
    "            if var in ds.keys():\n",
    "                ds[var].loc[dict(time=ds.time[1:])] = Data.accum2rate(ds[var]) * sf\n",
    "                # set first value to equal zero,\n",
    "                # should be zero but isn't always\n",
    "                ds[var].loc[dict(time=ds.time[0])] = 0\n",
    "                ds[var].attrs['units'] = accumulated_var_newunits[var]\n",
    "        return ds"
   ]
  },
  {
   "cell_type": "code",
   "execution_count": 4,
   "metadata": {},
   "outputs": [
    {
     "data": {
      "text/plain": [
       "\"\\nfor experiment in experiments:\\n    for cont in cfpf:\\n        for member in members[experiment]:\\n            if experiment == 'pi':\\n                wind_gusts_pi.extend(list(xr.open_dataset(os.path.join(directory_exp,experiment,'EU025/sfc',cont,member+'.nc')).fg10.values.flatten()))\\n            elif experiment == 'incr':\\n                wind_gusts_incr.extend(list(xr.open_dataset(os.path.join(directory_exp,experiment,'EU025/sfc',cont,member+'.nc')).fg10.values.flatten()))\\n\""
      ]
     },
     "execution_count": 4,
     "metadata": {},
     "output_type": "execute_result"
    }
   ],
   "source": [
    "# Load data from MED-R Preindustrial and increased\n",
    "'''\n",
    "directory_exp = '/network/group/aopp/predict/AWH012_LEACH_NASTORM/DATA/MED-R/EXP/'\n",
    "\n",
    "experiments = ['incr', 'pi']\n",
    "cfpf = ['cf', 'pf']  # control and perturbed are treated equally\n",
    "members = {'pi' : ['b2nn_2022-02-14', 'b2ns_2022-02-16', 'b2nq_2022-02-10'], \n",
    "           'incr' : ['b2no_2022-02-14', 'b2nr_2022-02-10', 'b2nt_2022-02-16']}  # members for incr and pi runs\n",
    "\n",
    "wind_gusts_pi = []\n",
    "wind_gusts_incr = []\n",
    "'''\n",
    "\n",
    "#wind_gusts_pi.extend(list(xr.open_dataset(os.path.join(directory_exp,'pi', 'EU025/sfc','cf','b2nn_2022-02-14'+'.nc')).fg10.values.flatten()))\n",
    "\n",
    "'''\n",
    "for experiment in experiments:\n",
    "    for cont in cfpf:\n",
    "        for member in members[experiment]:\n",
    "            if experiment == 'pi':\n",
    "                wind_gusts_pi.extend(list(xr.open_dataset(os.path.join(directory_exp,experiment,'EU025/sfc',cont,member+'.nc')).fg10.values.flatten()))\n",
    "            elif experiment == 'incr':\n",
    "                wind_gusts_incr.extend(list(xr.open_dataset(os.path.join(directory_exp,experiment,'EU025/sfc',cont,member+'.nc')).fg10.values.flatten()))\n",
    "'''\n"
   ]
  },
  {
   "cell_type": "code",
   "execution_count": 5,
   "metadata": {},
   "outputs": [
    {
     "name": "stdout",
     "output_type": "stream",
     "text": [
      "/gf3/predict2/AWH012_LEACH_NASTORM/DATA/MED-R/EXP/pi/EU025/sfc/cf/b2ns_2022-02-16.nc\n",
      "/gf3/predict2/AWH012_LEACH_NASTORM/DATA/MED-R/EXP/pi/EU025/sfc/pf/b2ns_2022-02-16.nc\n",
      "/gf3/predict2/AWH012_LEACH_NASTORM/DATA/MED-R/ENS/EU025/sfc/cf/1_2022-02-16.nc\n",
      "/gf3/predict2/AWH012_LEACH_NASTORM/DATA/MED-R/ENS/EU025/sfc/pf/1_2022-02-16.nc\n",
      "/gf3/predict2/AWH012_LEACH_NASTORM/DATA/MED-R/EXP/incr/EU025/sfc/cf/b2nt_2022-02-16.nc\n",
      "/gf3/predict2/AWH012_LEACH_NASTORM/DATA/MED-R/EXP/incr/EU025/sfc/pf/b2nt_2022-02-16.nc\n"
     ]
    }
   ],
   "source": [
    "\n",
    "da_pi = Data.get_eps_data(['pi'])\n",
    "da_curr = Data.get_eps_data(['curr'])\n",
    "da_incr = Data.get_eps_data(['incr'])\n",
    "wind_gusts_pi = da_pi['pi'].sel(number=1, time='2022-02-18 12').fg10.values.flatten()\n",
    "wind_gusts_curr = da_curr['curr'].sel(number=1, time='2022-02-18 12').fg10.values.flatten()\n",
    "wind_gusts_incr = da_incr['incr'].sel(number=1, time='2022-02-18 12').fg10.values.flatten()\n"
   ]
  },
  {
   "cell_type": "code",
   "execution_count": 6,
   "metadata": {},
   "outputs": [
    {
     "ename": "SyntaxError",
     "evalue": "invalid syntax (2702537918.py, line 1)",
     "output_type": "error",
     "traceback": [
      "\u001b[0;36m  Cell \u001b[0;32mIn[6], line 1\u001b[0;36m\u001b[0m\n\u001b[0;31m    wind_gusts_pi = []wind_gusts_pi = []\u001b[0m\n\u001b[0m                      ^\u001b[0m\n\u001b[0;31mSyntaxError\u001b[0m\u001b[0;31m:\u001b[0m invalid syntax\n"
     ]
    }
   ],
   "source": [
    "wind_gusts_pi = []\n",
    "wind_gusts_incr = []\n",
    "\n",
    "# Load data from MED-R Preindustrial and increased, as before\n",
    "directory_exp = '/network/group/aopp/predict/AWH012_LEACH_NASTORM/DATA/MED-R/EXP/'\n",
    "\n",
    "experiments = ['incr', 'pi']\n",
    "cfpf = ['cf', 'pf']  # control and perturbed are treated equally\n",
    "inits = {'pi' : ['b2nq_2022-02-10', 'b2nn_2022-02-14', 'b2ns_2022-02-16'], \n",
    "           'incr' : ['b2nr_2022-02-10', 'b2no_2022-02-14', 'b2nt_2022-02-16']}  # members for incr and pi runs\n",
    "\n",
    "for experiment in experiments:\n",
    "    for init in inits[experiment]:\n",
    "        for cont in cfpf:\n",
    "            if experiment == 'pi':\n",
    "                wind_gusts_pi.append(xr.open_dataset(os.path.join(directory_exp,experiment,'EU025/sfc',cont,init+'.nc')).fg10.values)        \n",
    "            elif experiment == 'incr':\n",
    "                wind_gusts_incr.append(xr.open_dataset(os.path.join(directory_exp,experiment,'EU025/sfc',cont,init+'.nc')).fg10.values)\n",
    "\n",
    "\n",
    "# Load data from MED-R Preindustrial and increased, as before\n",
    "directory_exp = '/network/group/aopp/predict/AWH012_LEACH_NASTORM/DATA/MED-R/EXP/'\n",
    "\n",
    "experiments = ['incr', 'pi']\n",
    "cfpf = ['cf', 'pf']  # control and perturbed are treated equally\n",
    "inits = {'pi' : ['b2nq_2022-02-10', 'b2nn_2022-02-14', 'b2ns_2022-02-16'], \n",
    "           'incr' : ['b2nr_2022-02-10', 'b2no_2022-02-14', 'b2nt_2022-02-16']}  # members for incr and pi runs\n",
    "\n",
    "for experiment in experiments:\n",
    "    for init in inits[experiment]:\n",
    "        for cont in cfpf:\n",
    "            if experiment == 'pi':\n",
    "                wind_gusts_pi.append(xr.open_dataset(os.path.join(directory_exp,experiment,'EU025/sfc',cont,init+'.nc')).fg10.values)        \n",
    "            elif experiment == 'incr':\n",
    "                wind_gusts_incr.append(xr.open_dataset(os.path.join(directory_exp,experiment,'EU025/sfc',cont,init+'.nc')).fg10.values) \n",
    "wind_gusts_pi = wind_gusts_pi.tolist()\n",
    "wind_gusts_curr = wind_gusts_curr.tolist()\n",
    "wind_gusts_incr = wind_gusts_incr.tolist()"
   ]
  },
  {
   "cell_type": "code",
   "execution_count": null,
   "metadata": {},
   "outputs": [
    {
     "data": {
      "text/plain": [
       "\"\\n# Load data from current climate\\ndirectory_ens = '/network/group/aopp/predict/AWH012_LEACH_NASTORM/DATA/MED-R/ENS/EU025/sfc/'\\n# dates = ['07', '08', '09', '10', '11', '12', '13', '14', '15', '16']\\ndates = ['10','14','16']\\nwind_gusts_curr = []\\n#wind_gusts_curr.extend(list(xr.open_dataset(os.path.join(directory_ens,'cf','1_2022-02-'+'14'+'.nc')).fg10.values.flatten()))\\n\\n\\nfor cont in cfpf:\\n    for date in dates:\\n        wind_gusts_curr.extend(list(xr.open_dataset(os.path.join(directory_ens,cont,'1_2022-02-'+date+'.nc')).fg10.values.flatten()))\\n\\n\\n\""
      ]
     },
     "execution_count": 61,
     "metadata": {},
     "output_type": "execute_result"
    }
   ],
   "source": [
    "'''\n",
    "# Load data from current climate\n",
    "directory_ens = '/network/group/aopp/predict/AWH012_LEACH_NASTORM/DATA/MED-R/ENS/EU025/sfc/'\n",
    "# dates = ['07', '08', '09', '10', '11', '12', '13', '14', '15', '16']\n",
    "dates = ['10','14','16']\n",
    "wind_gusts_curr = []\n",
    "#wind_gusts_curr.extend(list(xr.open_dataset(os.path.join(directory_ens,'cf','1_2022-02-'+'14'+'.nc')).fg10.values.flatten()))\n",
    "\n",
    "\n",
    "for cont in cfpf:\n",
    "    for date in dates:\n",
    "        wind_gusts_curr.extend(list(xr.open_dataset(os.path.join(directory_ens,cont,'1_2022-02-'+date+'.nc')).fg10.values.flatten()))\n",
    "\n",
    "\n",
    "'''"
   ]
  },
  {
   "cell_type": "code",
   "execution_count": null,
   "metadata": {},
   "outputs": [
    {
     "data": {
      "text/plain": [
       "list"
      ]
     },
     "execution_count": 62,
     "metadata": {},
     "output_type": "execute_result"
    }
   ],
   "source": [
    "type(wind_gusts_incr)"
   ]
  },
  {
   "cell_type": "markdown",
   "metadata": {},
   "source": [
    "right, the kernel crash here (just above) everytime I ran it.\n",
    "The code must be working, so it's the environment\n",
    "1. usually this happened bc of the wrong installment of numpy (according to python)\n",
    "1.1 reinstalled in conda, didn't work#\n",
    "2. environment--like ipykernal thingy (jupyter) messing with conda:?\n",
    "2.1 ha, disabled jupyter and this is still fking there\n",
    "\n",
    "final solution--use the function provided by Nick ahead to concat everything but extract them separately\n"
   ]
  },
  {
   "cell_type": "markdown",
   "metadata": {},
   "source": [
    "#also, if converting ndarrays into list/sets (or changing datatypes in general), only run it once or you will have to run everything from the start again"
   ]
  },
  {
   "cell_type": "code",
   "execution_count": null,
   "metadata": {},
   "outputs": [],
   "source": []
  },
  {
   "cell_type": "code",
   "execution_count": null,
   "metadata": {},
   "outputs": [
    {
     "data": {
      "text/plain": [
       "(10.0, 40.0)"
      ]
     },
     "execution_count": 63,
     "metadata": {},
     "output_type": "execute_result"
    },
    {
     "data": {
      "image/png": "[encoded data removed]",
      "text/plain": [
       "<Figure size 640x480 with 1 Axes>"
      ]
     },
     "metadata": {},
     "output_type": "display_data"
    }
   ],
   "source": [
    "plt.hist(random.sample(wind_gusts_pi, 10000), alpha = 0.5, density = True, bins = 20, label = 'PI')\n",
    "plt.hist(random.sample(wind_gusts_curr, 10000), alpha = 0.5, density = True, bins = 20, label = 'CURR')\n",
    "plt.hist(random.sample(wind_gusts_incr, 10000), alpha = 0.5, density = True, bins = 20, label = 'INCR')\n",
    "plt.xlabel('wind gusts on 10m (m/s)')\n",
    "plt.ylabel('frequency')\n",
    "plt.legend()\n",
    "sns.despine()\n",
    "\n",
    "plt.hist(random.sample(wind_gusts_pi, 10000), alpha = 0.5, density = True, bins = 20, label = 'PI')\n",
    "plt.hist(random.sample(wind_gusts_curr, 10000), alpha = 0.5, density = True, bins = 20, label = 'CURR')\n",
    "plt.hist(random.sample(wind_gusts_incr, 10000), alpha = 0.5, density = True, bins = 20, label = 'INCR')\n",
    "plt.xlabel('wind gusts on 10m (m/s)')\n",
    "plt.ylabel('frequency')\n",
    "plt.legend()\n",
    "sns.despine()\n",
    "plt.xlim((10,40,))\n",
    "\n",
    "#plt.savefig('figures/01_wind_gusts_hist_zoom.pdf')\n",
    "#plt.savefig('figures/01_wind_gusts_hist_zoom.png')\n",
    "\n"
   ]
  },
  {
   "cell_type": "code",
   "execution_count": null,
   "metadata": {},
   "outputs": [
    {
     "data": {
      "image/png": "[encoded data removed]",
      "text/plain": [
       "<Figure size 640x480 with 1 Axes>"
      ]
     },
     "metadata": {},
     "output_type": "display_data"
    }
   ],
   "source": [
    "values_pi, base_pi = np.histogram(random.sample(wind_gusts_pi, 10000), bins = 40)\n",
    "values_curr, base_curr = np.histogram(random.sample(wind_gusts_curr, 10000), bins = 40)\n",
    "values_incr, base_incr = np.histogram(random.sample(wind_gusts_incr, 10000), bins = 40)\n",
    "\n",
    "cumsum_pi = np.cumsum(values_pi)\n",
    "cumsum_curr = np.cumsum(values_curr)\n",
    "cumsum_incr = np.cumsum(values_incr)\n",
    "\n",
    "plt.plot(base_pi[:-1], cumsum_pi , alpha = 0.5, label = 'PI')\n",
    "plt.plot(base_curr[:-1], cumsum_curr, alpha = 0.5, label = 'CURR')\n",
    "plt.plot(base_incr[:-1], cumsum_incr, alpha = 0.5, label = 'INCR')\n",
    "\n",
    "plt.ylabel('cumulative wind gusts on 10m (m/s)')\n",
    "plt.legend()\n",
    "sns.despine()"
   ]
  },
  {
   "cell_type": "code",
   "execution_count": null,
   "metadata": {},
   "outputs": [
    {
     "name": "stdout",
     "output_type": "stream",
     "text": [
      "ShapiroResult(statistic=0.970289945602417, pvalue=1.975142732745308e-13)\n",
      "ShapiroResult(statistic=0.9628646373748779, pvalue=2.8661913574685224e-15)\n",
      "LeveneResult(statistic=0.2633594466941978, pvalue=0.6078782437130601)\n",
      "Ttest_indResult(statistic=2.6394876732692785, pvalue=0.008367705837780194)\n",
      "ShapiroResult(statistic=0.9659934043884277, pvalue=1.5782110996754098e-14)\n",
      "ShapiroResult(statistic=0.9612100124359131, pvalue=1.2101498307533513e-15)\n",
      "LeveneResult(statistic=0.0012661036516824406, pvalue=0.9716189362446234)\n",
      "Ttest_indResult(statistic=-2.4652364259519204, pvalue=0.01377581186477259)\n"
     ]
    }
   ],
   "source": [
    "print(stats.shapiro(random.sample(wind_gusts_pi, 1000)))  # Normality\n",
    "print(stats.shapiro(random.sample(wind_gusts_curr, 1000)))\n",
    "print(stats.levene(random.sample(wind_gusts_pi, 1000), random.sample(wind_gusts_curr, 1000)))  # Homogeneity of variance\n",
    "print(stats.ttest_ind(random.sample(wind_gusts_pi, 1000)25.5\n",
    "# Load data from MED-R Preindustrial and increased, as before\n",
    "directory_exp = '/network/group/aopp/predict/AWH012_LEACH_NASTORM/DATA/MED-R/EXP/'\n",
    "\n",
    "experiments = ['incr', 'pi']\n",
    "cfpf = ['cf', 'pf']  # control and perturbed are treated equally\n",
    "inits = {'pi' : ['b2nq_2022-02-10', 'b2nn_2022-02-14', 'b2ns_2022-02-16'], \n",
    "           'incr' : ['b2nr_2022-02-10', 'b2no_2022-02-14', 'b2nt_2022-02-16']}  # members for incr and pi runs\n",
    "\n",
    "for experiment in experiments:\n",
    "    for init in inits[experiment]:\n",
    "        for cont in cfpf:\n",
    "            if experiment == 'pi':\n",
    "                wind_gusts_pi.append(xr.open_dataset(os.path.join(directory_exp,experiment,'EU025/sfc',cont,init+'.nc')).fg10.values)        \n",
    "            elif experiment == 'incr':\n",
    "                wind_gusts_incr.append(xr.open_dataset(os.path.join(directory_exp,experiment,'EU025/sfc',cont,init+' random.sample(wind_gusts_incr, 1000)))  # Homogeneity of variance\n",
    "print(stats.ttest_ind(random.sample(wind_gusts_curr, 1000), random.sample(wind_gusts_incr, 1000)))\n",
    "\n"
   ]
  },
  {
   "cell_type": "code",
   "execution_count": null,
   "metadata": {},
   "outputs": [
    {
     "name": "stdout",
     "output_type": "stream",
     "text": [
      "(1.9673134738137055, 1.4691077714749077, 12.903935765789601)\n",
      "(1.921738074912684, 1.5756022987022766, 12.110148524331631)\n",
      "(1.9973282838845985, 1.2940699372343258, 13.449150142941308)\n"
     ]
    }
   ],
   "source": [
    "# Fit weibull distribution\n",
    "fit_pi= sc.stats.weibull_min.fit(random.sample(wind_gusts_pi, 10000))\n",
    "fit_curr= sc.stats.weibull_min.fit(random.sample(wind_gusts_curr, 10000))\n",
    "fit_incr= sc.stats.weibull_min.fit(random.sample(wind_gusts_incr, 10000))\n",
    "print(fit_pi)\n",
    "print(fit_curr)\n",
    "print(fit_incr)"
   ]
  },
  {
   "cell_type": "code",
   "execution_count": null,
   "metadata": {},
   "outputs": [],
   "source": [
    "wind_gusts_pi = []\n",
    "wind_gusts_incr = []\n",
    "\n",
    "# Load data from MED-R Preindustrial and increased, as before\n",
    "directory_exp = '/network/group/aopp/predict/AWH012_LEACH_NASTORM/DATA/MED-R/EXP/'\n",
    "experiments = ['incr', 'pi']\n",
    "cfpf = ['cf', 'pf']  # control and perturbed are treated equally\n",
    "inits = {'pi' : ['b2ns_2022-02-16'], \n",
    "           'incr' : ['b2nt_2022-02-16']}  # members for incr and pi runs\n",
    "\n",
    "for experiment in experiments:\n",
    "    for init in inits[experiment]:\n",
    "        for cont in cfpf:\n",
    "            if experiment == 'pi':\n",
    "                wind_gusts_pi.append(xr.open_dataset(os.path.join(directory_exp,experiment,'EU025/sfc',cont,init+'.nc')).fg10.values)        \n",
    "            elif experiment == 'incr':\n",
    "                wind_gusts_incr.append(xr.open_dataset(os.path.join(directory_exp,experiment,'EU025/sfc',cont,init+'.nc')).fg10.values)\n",
    "\n"
   ]
  },
  {
   "cell_type": "code",
   "execution_count": null,
   "metadata": {},
   "outputs": [],
   "source": [
    "# Import lat, lon values\n",
    "lat = xr.open_dataset(os.path.join(directory_exp,experiment,'EU025/sfc',cont,init+'.nc')).latitude.values\n",
    "lon = xr.open_dataset(os.path.join(directory_exp,experiment,'EU025/sfc',cont,init+'.nc')).longitude.values\n",
    " \n",
    "# Import time steps, NB there are three sets of time steps depending on the initialisation date\n",
    "fridays = []\n",
    "for init in inits['pi']:  # time stamps are the same across experiments pi and icnr\n",
    "    time = xr.open_dataset(os.path.join(directory_exp,experiment,'EU025/sfc',cont,init+'.nc')).time.values\n",
    "    fridays.append((time > pd.Timestamp(2022,2,18, 0)) & (time < pd.Timestamp(2022,2,18, 18)))\n",
    "\n",
    "# Defining box to analyse winds, south england and wales\n",
    "lat1 = 52.2\n",
    "lat2 = 50.3\n",
    "lon1 = -6\n",
    "lon2 = 1.3\n",
    "\n",
    "# Create mask\n",
    "south_england = {'lat': (lat < lat1) & (lat > lat2), 'lon': (lon < lon2) & (lon > lon1)}\n",
    "friday = (time > pd.Timestamp(2022,2,18, 0)) & (time < pd.Timestamp(2022,2,18, 18))"
   ]
  },
  {
   "cell_type": "markdown",
   "metadata": {},
   "source": [
    "1. experiment as a variable has only one value--'pi', but what if we want to use both values in the experiments (tuple?)--another for loop? eh\n",
    "2. os.path.join(), interesting function that i hardly ever used--but apparently I need to get familar with the website itself first\n",
    "3. What is a MASK? just a time/spatial bc?"
   ]
  },
  {
   "cell_type": "code",
   "execution_count": null,
   "metadata": {},
   "outputs": [],
   "source": [
    "wind_gusts_incr_south = []\n",
    "wind_gusts_pi_south = []\n",
    "init_step = 0  # used to loop through fridays i.e. time step mask which varies depending on init date\n",
    "for i in range(len(wind_gusts_incr)): # going through the combinations of cf/pf and inits\n",
    "    if i in [0,2,4]:\n",
    "        masks = np.meshgrid(fridays[init_step], south_england['lat'], south_england['lon'], indexing = 'ij')\n",
    "        full_mask = np.ma.make_mask(masks[0]*masks[1]*masks[2])\n",
    "        wind_gusts_incr_south.append(wind_gusts_incr[i][full_mask].reshape(5,7,29)) \n",
    "        wind_gusts_pi_south.append(wind_gusts_pi[i][full_mask].reshape(5,7,29))\n",
    "    elif i in  [1,3,5]:\n",
    "        masks = np.meshgrid(fridays[init_step], np.ones(50), south_england['lat'], south_england['lon'], indexing = 'ij')\n",
    "        full_mask = np.ma.make_mask(masks[0]*masks[1]*masks[2]*masks[3])\n",
    "        pi = wind_gusts_pi[i][full_mask].reshape(5,50,7,29)\n",
    "        incr = wind_gusts_incr[i][full_mask].reshape(5,50,7,29)\n",
    "        for member in range(50): # add members individually but they are equal to the control runs\n",
    "            wind_gusts_pi_south.append(pi[:,member,:,:])\n",
    "            wind_gusts_incr_south.append(incr[:,member,:,:])\n",
    "        init_step += 1\n",
    "\n",
    "wind_gusts_incr_south = np.stack(wind_gusts_incr_south)\n",
    "wind_gusts_pi_south = np.stack(wind_gusts_pi_south)"
   ]
  },
  {
   "cell_type": "code",
   "execution_count": null,
   "metadata": {},
   "outputs": [
    {
     "ename": "NameError",
     "evalue": "name 'plt' is not defined",
     "output_type": "error",
     "traceback": [
      "\u001b[0;31m---------------------------------------------------------------------------\u001b[0m",
      "\u001b[0;31mNameError\u001b[0m                                 Traceback (most recent call last)",
      "Cell \u001b[0;32mIn[1], line 1\u001b[0m\n\u001b[0;32m----> 1\u001b[0m plt\u001b[39m.\u001b[39mhist(wind_gusts_pi_south\u001b[39m.\u001b[39mflatten(), alpha \u001b[39m=\u001b[39m \u001b[39m0.5\u001b[39m, density \u001b[39m=\u001b[39m \u001b[39mTrue\u001b[39;00m, bins \u001b[39m=\u001b[39m \u001b[39m20\u001b[39m, label \u001b[39m=\u001b[39m \u001b[39m'\u001b[39m\u001b[39mPI\u001b[39m\u001b[39m'\u001b[39m)\n\u001b[1;32m      2\u001b[0m plt\u001b[39m.\u001b[39mhist(wind_gusts_incr_south\u001b[39m.\u001b[39mflatten(),  alpha \u001b[39m=\u001b[39m \u001b[39m0.5\u001b[39m, density \u001b[39m=\u001b[39m \u001b[39mTrue\u001b[39;00m, bins \u001b[39m=\u001b[39m \u001b[39m20\u001b[39m, label \u001b[39m=\u001b[39m \u001b[39m'\u001b[39m\u001b[39mINCR\u001b[39m\u001b[39m'\u001b[39m)\n\u001b[1;32m      3\u001b[0m plt\u001b[39m.\u001b[39mxlabel(\u001b[39m'\u001b[39m\u001b[39mwind gusts on 10m (m/s)\u001b[39m\u001b[39m'\u001b[39m)\n",
      "\u001b[0;31mNameError\u001b[0m: name 'plt' is not defined"
     ]
    }
   ],
   "source": [
    "plt.hist(wind_gusts_pi_south.flatten(), alpha = 0.5, density = True, bins = 20, label = 'PI')\n",
    "plt.hist(wind_gusts_incr_south.flatten(),  alpha = 0.5, density = True, bins = 20, label = 'INCR')\n",
    "plt.xlabel('wind gusts on 10m (m/s)')\n",
    "plt.ylabel('frequency')\n",
    "plt.legend()\n",
    "plt.title('Wind gusts (fg10) for southern UK, Friday 18/02/2022')\n",
    "sns.despine()\n",
    "\n",
    "plt.savefig('figures/01_wind_gusts_hist.pdf')\n",
    "plt.savefig('figures/01_wind_gusts_hist.png')\n"
   ]
  },
  {
   "cell_type": "markdown",
   "metadata": {},
   "source": [
    "there is an error message at the last bit, which states that the file path can't be found and thus the figure can't be saved. This doesn't matter apparently. I don't have the correct directory"
   ]
  }
 ],
 "metadata": {
  "kernelspec": {
   "display_name": "storm_dudley",
   "language": "python",
   "name": "python3"
  },
  "language_info": {
   "codemirror_mode": {
    "name": "ipython",
    "version": 3
   },
   "file_extension": ".py",
   "mimetype": "text/x-python",
   "name": "python",
   "nbconvert_exporter": "python",
   "pygments_lexer": "ipython3",
   "version": "3.9.17"
  },
  "orig_nbformat": 4
 },
 "nbformat": 4,
 "nbformat_minor": 2
}
